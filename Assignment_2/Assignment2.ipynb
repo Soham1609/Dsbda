{
 "cells": [
  {
   "cell_type": "code",
   "execution_count": 1,
   "id": "f7d6a2cc",
   "metadata": {},
   "outputs": [],
   "source": [
    "import pandas as pd\n",
    "import numpy as np\n",
    "from matplotlib import pyplot as plt\n",
    "import seaborn as sns"
   ]
  },
  {
   "cell_type": "code",
   "execution_count": 2,
   "id": "f4c29225",
   "metadata": {},
   "outputs": [
    {
     "name": "stdout",
     "output_type": "stream",
     "text": [
      "   Roll No.      Name  CGPA Grade\n",
      "0     31411    Swayam   9.6     A\n",
      "1     31412   Chinmay   8.7     B\n",
      "2     31413  Vinayaki   9.7     A\n",
      "3     31414      Yash   7.8     C\n",
      "4     31415     Rutik   0.0      \n",
      "5     31416    Aditya   8.9     B\n",
      "6     31417  Abheejit   7.8     C\n",
      "7     31418  Dikshant   6.7     D\n",
      "8     31419     Rohit   9.1     A\n",
      "9     31420      Ajit   0.0      \n"
     ]
    }
   ],
   "source": [
    "#Creation of Data frame\n",
    "RN=[31411,31412,31413,31414,31415,31416,31417,31418,31419,31420]\n",
    "Name=[\"Swayam\",\"Chinmay\",\"Vinayaki\",\"Yash\",\"Rutik\",\"Aditya\",\"Abheejit\",\"Dikshant\",\"Rohit\",\"Ajit\"]\n",
    "CGPA=[9.6,8.7,9.7,7.8,0,8.9,7.8,6.7,9.1,0]\n",
    "GRADE=[\"A\",\"B\",\"A\",\"C\",\"\",\"B\",\"C\",\"D\",\"A\",\"\"]\n",
    "dict={'Roll No.':RN,'Name':Name,'CGPA':CGPA,'Grade':GRADE}\n",
    "df = pd.DataFrame(dict)\n",
    "print(df)"
   ]
  },
  {
   "cell_type": "code",
   "execution_count": 3,
   "id": "ffb4e58a",
   "metadata": {},
   "outputs": [],
   "source": [
    "#Conversion of data frame into csv file\n",
    "df.to_csv('Academic_Performance.csv')"
   ]
  },
  {
   "cell_type": "code",
   "execution_count": 4,
   "id": "f7993c1f",
   "metadata": {},
   "outputs": [
    {
     "name": "stdout",
     "output_type": "stream",
     "text": [
      "   Unnamed: 0  Roll No.      Name  CGPA Grade\n",
      "0           0     31411    Swayam   9.6     A\n",
      "1           1     31412   Chinmay   8.7     B\n",
      "2           2     31413  Vinayaki   9.7     A\n",
      "3           3     31414      Yash   7.8     C\n",
      "4           4     31415     Rutik   0.0   NaN\n",
      "5           5     31416    Aditya   8.9     B\n",
      "6           6     31417  Abheejit   7.8     C\n",
      "7           7     31418  Dikshant   6.7     D\n",
      "8           8     31419     Rohit   9.1     A\n",
      "9           9     31420      Ajit   0.0   NaN\n"
     ]
    }
   ],
   "source": [
    "AP=pd.read_csv('Academic_Performance.csv')\n",
    "print(AP)"
   ]
  },
  {
   "cell_type": "code",
   "execution_count": 5,
   "id": "8d0bdf8d",
   "metadata": {},
   "outputs": [
    {
     "data": {
      "text/html": [
       "<div>\n",
       "<style scoped>\n",
       "    .dataframe tbody tr th:only-of-type {\n",
       "        vertical-align: middle;\n",
       "    }\n",
       "\n",
       "    .dataframe tbody tr th {\n",
       "        vertical-align: top;\n",
       "    }\n",
       "\n",
       "    .dataframe thead th {\n",
       "        text-align: right;\n",
       "    }\n",
       "</style>\n",
       "<table border=\"1\" class=\"dataframe\">\n",
       "  <thead>\n",
       "    <tr style=\"text-align: right;\">\n",
       "      <th></th>\n",
       "      <th>Unnamed: 0</th>\n",
       "      <th>Roll No.</th>\n",
       "      <th>Name</th>\n",
       "      <th>CGPA</th>\n",
       "      <th>Grade</th>\n",
       "    </tr>\n",
       "  </thead>\n",
       "  <tbody>\n",
       "    <tr>\n",
       "      <th>0</th>\n",
       "      <td>False</td>\n",
       "      <td>False</td>\n",
       "      <td>False</td>\n",
       "      <td>False</td>\n",
       "      <td>False</td>\n",
       "    </tr>\n",
       "    <tr>\n",
       "      <th>1</th>\n",
       "      <td>False</td>\n",
       "      <td>False</td>\n",
       "      <td>False</td>\n",
       "      <td>False</td>\n",
       "      <td>False</td>\n",
       "    </tr>\n",
       "    <tr>\n",
       "      <th>2</th>\n",
       "      <td>False</td>\n",
       "      <td>False</td>\n",
       "      <td>False</td>\n",
       "      <td>False</td>\n",
       "      <td>False</td>\n",
       "    </tr>\n",
       "    <tr>\n",
       "      <th>3</th>\n",
       "      <td>False</td>\n",
       "      <td>False</td>\n",
       "      <td>False</td>\n",
       "      <td>False</td>\n",
       "      <td>False</td>\n",
       "    </tr>\n",
       "    <tr>\n",
       "      <th>4</th>\n",
       "      <td>False</td>\n",
       "      <td>False</td>\n",
       "      <td>False</td>\n",
       "      <td>False</td>\n",
       "      <td>True</td>\n",
       "    </tr>\n",
       "    <tr>\n",
       "      <th>5</th>\n",
       "      <td>False</td>\n",
       "      <td>False</td>\n",
       "      <td>False</td>\n",
       "      <td>False</td>\n",
       "      <td>False</td>\n",
       "    </tr>\n",
       "    <tr>\n",
       "      <th>6</th>\n",
       "      <td>False</td>\n",
       "      <td>False</td>\n",
       "      <td>False</td>\n",
       "      <td>False</td>\n",
       "      <td>False</td>\n",
       "    </tr>\n",
       "    <tr>\n",
       "      <th>7</th>\n",
       "      <td>False</td>\n",
       "      <td>False</td>\n",
       "      <td>False</td>\n",
       "      <td>False</td>\n",
       "      <td>False</td>\n",
       "    </tr>\n",
       "    <tr>\n",
       "      <th>8</th>\n",
       "      <td>False</td>\n",
       "      <td>False</td>\n",
       "      <td>False</td>\n",
       "      <td>False</td>\n",
       "      <td>False</td>\n",
       "    </tr>\n",
       "    <tr>\n",
       "      <th>9</th>\n",
       "      <td>False</td>\n",
       "      <td>False</td>\n",
       "      <td>False</td>\n",
       "      <td>False</td>\n",
       "      <td>True</td>\n",
       "    </tr>\n",
       "  </tbody>\n",
       "</table>\n",
       "</div>"
      ],
      "text/plain": [
       "   Unnamed: 0  Roll No.   Name   CGPA  Grade\n",
       "0       False     False  False  False  False\n",
       "1       False     False  False  False  False\n",
       "2       False     False  False  False  False\n",
       "3       False     False  False  False  False\n",
       "4       False     False  False  False   True\n",
       "5       False     False  False  False  False\n",
       "6       False     False  False  False  False\n",
       "7       False     False  False  False  False\n",
       "8       False     False  False  False  False\n",
       "9       False     False  False  False   True"
      ]
     },
     "execution_count": 5,
     "metadata": {},
     "output_type": "execute_result"
    }
   ],
   "source": [
    "#Checking for null values ---- String null values enter \"\", numeric null values enter np.nan\n",
    "AP.isnull()"
   ]
  },
  {
   "cell_type": "code",
   "execution_count": 6,
   "id": "21df2120",
   "metadata": {},
   "outputs": [
    {
     "data": {
      "text/html": [
       "<div>\n",
       "<style scoped>\n",
       "    .dataframe tbody tr th:only-of-type {\n",
       "        vertical-align: middle;\n",
       "    }\n",
       "\n",
       "    .dataframe tbody tr th {\n",
       "        vertical-align: top;\n",
       "    }\n",
       "\n",
       "    .dataframe thead th {\n",
       "        text-align: right;\n",
       "    }\n",
       "</style>\n",
       "<table border=\"1\" class=\"dataframe\">\n",
       "  <thead>\n",
       "    <tr style=\"text-align: right;\">\n",
       "      <th></th>\n",
       "      <th>Unnamed: 0</th>\n",
       "      <th>Roll No.</th>\n",
       "      <th>Name</th>\n",
       "      <th>CGPA</th>\n",
       "      <th>Grade</th>\n",
       "    </tr>\n",
       "  </thead>\n",
       "  <tbody>\n",
       "    <tr>\n",
       "      <th>0</th>\n",
       "      <td>0</td>\n",
       "      <td>31411</td>\n",
       "      <td>Swayam</td>\n",
       "      <td>9.6</td>\n",
       "      <td>A</td>\n",
       "    </tr>\n",
       "    <tr>\n",
       "      <th>1</th>\n",
       "      <td>1</td>\n",
       "      <td>31412</td>\n",
       "      <td>Chinmay</td>\n",
       "      <td>8.7</td>\n",
       "      <td>B</td>\n",
       "    </tr>\n",
       "    <tr>\n",
       "      <th>2</th>\n",
       "      <td>2</td>\n",
       "      <td>31413</td>\n",
       "      <td>Vinayaki</td>\n",
       "      <td>9.7</td>\n",
       "      <td>A</td>\n",
       "    </tr>\n",
       "    <tr>\n",
       "      <th>3</th>\n",
       "      <td>3</td>\n",
       "      <td>31414</td>\n",
       "      <td>Yash</td>\n",
       "      <td>7.8</td>\n",
       "      <td>C</td>\n",
       "    </tr>\n",
       "    <tr>\n",
       "      <th>4</th>\n",
       "      <td>4</td>\n",
       "      <td>31415</td>\n",
       "      <td>Rutik</td>\n",
       "      <td>0.0</td>\n",
       "      <td>F</td>\n",
       "    </tr>\n",
       "    <tr>\n",
       "      <th>5</th>\n",
       "      <td>5</td>\n",
       "      <td>31416</td>\n",
       "      <td>Aditya</td>\n",
       "      <td>8.9</td>\n",
       "      <td>B</td>\n",
       "    </tr>\n",
       "    <tr>\n",
       "      <th>6</th>\n",
       "      <td>6</td>\n",
       "      <td>31417</td>\n",
       "      <td>Abheejit</td>\n",
       "      <td>7.8</td>\n",
       "      <td>C</td>\n",
       "    </tr>\n",
       "    <tr>\n",
       "      <th>7</th>\n",
       "      <td>7</td>\n",
       "      <td>31418</td>\n",
       "      <td>Dikshant</td>\n",
       "      <td>6.7</td>\n",
       "      <td>D</td>\n",
       "    </tr>\n",
       "    <tr>\n",
       "      <th>8</th>\n",
       "      <td>8</td>\n",
       "      <td>31419</td>\n",
       "      <td>Rohit</td>\n",
       "      <td>9.1</td>\n",
       "      <td>A</td>\n",
       "    </tr>\n",
       "    <tr>\n",
       "      <th>9</th>\n",
       "      <td>9</td>\n",
       "      <td>31420</td>\n",
       "      <td>Ajit</td>\n",
       "      <td>0.0</td>\n",
       "      <td>F</td>\n",
       "    </tr>\n",
       "  </tbody>\n",
       "</table>\n",
       "</div>"
      ],
      "text/plain": [
       "   Unnamed: 0  Roll No.      Name  CGPA Grade\n",
       "0           0     31411    Swayam   9.6     A\n",
       "1           1     31412   Chinmay   8.7     B\n",
       "2           2     31413  Vinayaki   9.7     A\n",
       "3           3     31414      Yash   7.8     C\n",
       "4           4     31415     Rutik   0.0     F\n",
       "5           5     31416    Aditya   8.9     B\n",
       "6           6     31417  Abheejit   7.8     C\n",
       "7           7     31418  Dikshant   6.7     D\n",
       "8           8     31419     Rohit   9.1     A\n",
       "9           9     31420      Ajit   0.0     F"
      ]
     },
     "execution_count": 6,
     "metadata": {},
     "output_type": "execute_result"
    }
   ],
   "source": [
    "#replacing null values in Grade column with F\n",
    "AP[\"Grade\"].fillna(\"F\",inplace=True)  \n",
    "AP"
   ]
  },
  {
   "cell_type": "code",
   "execution_count": 7,
   "id": "93f49ebc",
   "metadata": {},
   "outputs": [
    {
     "data": {
      "text/plain": [
       "[<matplotlib.lines.Line2D at 0x7ffb4b6a7eb0>]"
      ]
     },
     "execution_count": 7,
     "metadata": {},
     "output_type": "execute_result"
    },
    {
     "data": {
      "image/png": "[encoded data removed]",
      "text/plain": [
       "<Figure size 432x288 with 1 Axes>"
      ]
     },
     "metadata": {
      "needs_background": "light"
     },
     "output_type": "display_data"
    }
   ],
   "source": [
    "plt.plot(AP[\"Roll No.\"],AP[\"CGPA\"])"
   ]
  },
  {
   "cell_type": "code",
   "execution_count": 8,
   "id": "3e6f5531",
   "metadata": {},
   "outputs": [
    {
     "name": "stderr",
     "output_type": "stream",
     "text": [
      "/usr/local/lib/python3.8/site-packages/seaborn/_decorators.py:36: FutureWarning: Pass the following variable as a keyword arg: x. From version 0.12, the only valid positional argument will be `data`, and passing other arguments without an explicit keyword will result in an error or misinterpretation.\n",
      "  warnings.warn(\n"
     ]
    },
    {
     "data": {
      "text/plain": [
       "<AxesSubplot:xlabel='CGPA'>"
      ]
     },
     "execution_count": 8,
     "metadata": {},
     "output_type": "execute_result"
    },
    {
     "data": {
      "image/png": "[encoded data removed]",
      "text/plain": [
       "<Figure size 432x288 with 1 Axes>"
      ]
     },
     "metadata": {
      "needs_background": "light"
     },
     "output_type": "display_data"
    }
   ],
   "source": [
    "sns.boxplot(df[\"CGPA\"])"
   ]
  },
  {
   "cell_type": "code",
   "execution_count": 9,
   "id": "51514e89",
   "metadata": {},
   "outputs": [
    {
     "name": "stdout",
     "output_type": "stream",
     "text": [
      "(array([4, 9]),)\n"
     ]
    }
   ],
   "source": [
    "print(np.where(df[\"CGPA\"]<6))"
   ]
  },
  {
   "cell_type": "code",
   "execution_count": 10,
   "id": "f241c3bf",
   "metadata": {},
   "outputs": [],
   "source": [
    "AP=AP.drop(\n",
    "labels=[4,9],\n",
    "axis=0,\n",
    ")"
   ]
  },
  {
   "cell_type": "code",
   "execution_count": 11,
   "id": "77313eeb",
   "metadata": {},
   "outputs": [],
   "source": [
    "# print(np.where(AP[\"CGPA\"]<6))"
   ]
  },
  {
   "cell_type": "code",
   "execution_count": 12,
   "id": "335928c0",
   "metadata": {},
   "outputs": [
    {
     "data": {
      "text/plain": [
       "[<matplotlib.lines.Line2D at 0x7ffb4b598970>]"
      ]
     },
     "execution_count": 12,
     "metadata": {},
     "output_type": "execute_result"
    },
    {
     "data": {
      "image/png": "[encoded data removed]",
      "text/plain": [
       "<Figure size 432x288 with 1 Axes>"
      ]
     },
     "metadata": {
      "needs_background": "light"
     },
     "output_type": "display_data"
    }
   ],
   "source": [
    "plt.plot(AP[\"Roll No.\"],AP[\"CGPA\"])"
   ]
  },
  {
   "cell_type": "code",
   "execution_count": 13,
   "id": "ee3ce78a",
   "metadata": {},
   "outputs": [
    {
     "data": {
      "text/html": [
       "<div>\n",
       "<style scoped>\n",
       "    .dataframe tbody tr th:only-of-type {\n",
       "        vertical-align: middle;\n",
       "    }\n",
       "\n",
       "    .dataframe tbody tr th {\n",
       "        vertical-align: top;\n",
       "    }\n",
       "\n",
       "    .dataframe thead th {\n",
       "        text-align: right;\n",
       "    }\n",
       "</style>\n",
       "<table border=\"1\" class=\"dataframe\">\n",
       "  <thead>\n",
       "    <tr style=\"text-align: right;\">\n",
       "      <th></th>\n",
       "      <th>Unnamed: 0</th>\n",
       "      <th>Roll No.</th>\n",
       "      <th>Name</th>\n",
       "      <th>CGPA</th>\n",
       "      <th>Grade</th>\n",
       "    </tr>\n",
       "  </thead>\n",
       "  <tbody>\n",
       "    <tr>\n",
       "      <th>0</th>\n",
       "      <td>0</td>\n",
       "      <td>31411</td>\n",
       "      <td>Swayam</td>\n",
       "      <td>9.6</td>\n",
       "      <td>A</td>\n",
       "    </tr>\n",
       "    <tr>\n",
       "      <th>1</th>\n",
       "      <td>1</td>\n",
       "      <td>31412</td>\n",
       "      <td>Chinmay</td>\n",
       "      <td>8.7</td>\n",
       "      <td>B</td>\n",
       "    </tr>\n",
       "    <tr>\n",
       "      <th>2</th>\n",
       "      <td>2</td>\n",
       "      <td>31413</td>\n",
       "      <td>Vinayaki</td>\n",
       "      <td>9.7</td>\n",
       "      <td>A</td>\n",
       "    </tr>\n",
       "    <tr>\n",
       "      <th>3</th>\n",
       "      <td>3</td>\n",
       "      <td>31414</td>\n",
       "      <td>Yash</td>\n",
       "      <td>7.8</td>\n",
       "      <td>C</td>\n",
       "    </tr>\n",
       "    <tr>\n",
       "      <th>5</th>\n",
       "      <td>5</td>\n",
       "      <td>31416</td>\n",
       "      <td>Aditya</td>\n",
       "      <td>8.9</td>\n",
       "      <td>B</td>\n",
       "    </tr>\n",
       "    <tr>\n",
       "      <th>6</th>\n",
       "      <td>6</td>\n",
       "      <td>31417</td>\n",
       "      <td>Abheejit</td>\n",
       "      <td>7.8</td>\n",
       "      <td>C</td>\n",
       "    </tr>\n",
       "    <tr>\n",
       "      <th>7</th>\n",
       "      <td>7</td>\n",
       "      <td>31418</td>\n",
       "      <td>Dikshant</td>\n",
       "      <td>6.7</td>\n",
       "      <td>D</td>\n",
       "    </tr>\n",
       "    <tr>\n",
       "      <th>8</th>\n",
       "      <td>8</td>\n",
       "      <td>31419</td>\n",
       "      <td>Rohit</td>\n",
       "      <td>9.1</td>\n",
       "      <td>A</td>\n",
       "    </tr>\n",
       "  </tbody>\n",
       "</table>\n",
       "</div>"
      ],
      "text/plain": [
       "   Unnamed: 0  Roll No.      Name  CGPA Grade\n",
       "0           0     31411    Swayam   9.6     A\n",
       "1           1     31412   Chinmay   8.7     B\n",
       "2           2     31413  Vinayaki   9.7     A\n",
       "3           3     31414      Yash   7.8     C\n",
       "5           5     31416    Aditya   8.9     B\n",
       "6           6     31417  Abheejit   7.8     C\n",
       "7           7     31418  Dikshant   6.7     D\n",
       "8           8     31419     Rohit   9.1     A"
      ]
     },
     "execution_count": 13,
     "metadata": {},
     "output_type": "execute_result"
    }
   ],
   "source": [
    "AP.to_csv('Academic_Performance_changed.csv')\n",
    "AP"
   ]
  },
  {
   "cell_type": "code",
   "execution_count": 14,
   "id": "6c00d906",
   "metadata": {},
   "outputs": [
    {
     "name": "stderr",
     "output_type": "stream",
     "text": [
      "/tmp/ipykernel_8315/2282338341.py:1: FutureWarning: Dropping of nuisance columns in DataFrame reductions (with 'numeric_only=None') is deprecated; in a future version this will raise TypeError.  Select only valid columns before calling the reduction.\n",
      "  AP.skew()\n"
     ]
    },
    {
     "data": {
      "text/plain": [
       "Unnamed: 0    0.000000\n",
       "Roll No.      0.000000\n",
       "CGPA         -0.699368\n",
       "dtype: float64"
      ]
     },
     "execution_count": 14,
     "metadata": {},
     "output_type": "execute_result"
    }
   ],
   "source": [
    "AP.skew()"
   ]
  },
  {
   "cell_type": "code",
   "execution_count": 15,
   "id": "d30f4046",
   "metadata": {},
   "outputs": [
    {
     "name": "stdout",
     "output_type": "stream",
     "text": [
      "CGPA is negatively moderately skewed.\n"
     ]
    },
    {
     "data": {
      "image/png": "[encoded data removed]",
      "text/plain": [
       "<Figure size 432x288 with 1 Axes>"
      ]
     },
     "metadata": {
      "needs_background": "light"
     },
     "output_type": "display_data"
    }
   ],
   "source": [
    "AP.CGPA.hist()\n",
    "plt.title(\"Histogram of CGPA\")\n",
    "print(\"CGPA is negatively moderately skewed.\")"
   ]
  },
  {
   "cell_type": "code",
   "execution_count": 16,
   "id": "0ecd4d21",
   "metadata": {},
   "outputs": [],
   "source": [
    "# print(\"Performing logarithmic transformation.\")\n",
    "# AP['CGPA']=np.log(AP['CGPA'])\n",
    "# print(\"Skewness of CGPA after transformation\")\n",
    "# AP.skew()\n",
    "# Logarithmic transformation did not normaliz the data set"
   ]
  },
  {
   "cell_type": "code",
   "execution_count": 17,
   "id": "4f5c60b3",
   "metadata": {},
   "outputs": [
    {
     "name": "stderr",
     "output_type": "stream",
     "text": [
      "/usr/local/lib/python3.8/site-packages/seaborn/distributions.py:2619: FutureWarning: `distplot` is a deprecated function and will be removed in a future version. Please adapt your code to use either `displot` (a figure-level function with similar flexibility) or `histplot` (an axes-level function for histograms).\n",
      "  warnings.warn(msg, FutureWarning)\n"
     ]
    },
    {
     "data": {
      "image/png": "[encoded data removed]",
      "text/plain": [
       "<Figure size 864x432 with 1 Axes>"
      ]
     },
     "metadata": {
      "needs_background": "light"
     },
     "output_type": "display_data"
    }
   ],
   "source": [
    "plt.figure(figsize=(12,6))\n",
    "sns.distplot(AP[\"CGPA\"])\n",
    "plt.show()"
   ]
  },
  {
   "cell_type": "code",
   "execution_count": 18,
   "id": "fdd56536",
   "metadata": {},
   "outputs": [],
   "source": [
    "# from scipy.stats import norm\n",
    "# plt.figure(figsize=(12,6))\n",
    "# sns.distplot(AP[\"CGPA\"],fit=norm,kde=False)\n",
    "# plt.show()"
   ]
  },
  {
   "cell_type": "code",
   "execution_count": 19,
   "id": "49477f96",
   "metadata": {},
   "outputs": [
    {
     "name": "stderr",
     "output_type": "stream",
     "text": [
      "/tmp/ipykernel_8315/1494812114.py:1: FutureWarning: Dropping of nuisance columns in DataFrame reductions (with 'numeric_only=None') is deprecated; in a future version this will raise TypeError.  Select only valid columns before calling the reduction.\n",
      "  AP.skew()\n"
     ]
    },
    {
     "data": {
      "text/plain": [
       "Unnamed: 0    0.000000\n",
       "Roll No.      0.000000\n",
       "CGPA         -0.699368\n",
       "dtype: float64"
      ]
     },
     "execution_count": 19,
     "metadata": {},
     "output_type": "execute_result"
    }
   ],
   "source": [
    "AP.skew()\n"
   ]
  },
  {
   "cell_type": "code",
   "execution_count": 20,
   "id": "6f7d6140",
   "metadata": {},
   "outputs": [],
   "source": [
    "# print(\"Performing reciprocal transformation.\")\n",
    "# AP['CGPA']=1/AP.CGPA\n",
    "# AP.skew()\n",
    "# Reciprocal transformation didn't affect the skewness "
   ]
  },
  {
   "cell_type": "code",
   "execution_count": 21,
   "id": "3c8a0b66",
   "metadata": {},
   "outputs": [],
   "source": [
    "# print(\"Performing square root transformation.\")\n",
    "# AP['CGPA']=np.sqrt(AP.CGPA)\n",
    "# AP.skew()\n",
    "# Reciprocal transformation didn't affect the skewness "
   ]
  },
  {
   "cell_type": "code",
   "execution_count": 22,
   "id": "b6e4bd55",
   "metadata": {},
   "outputs": [],
   "source": [
    "# print(\"Performing exponential transformation.\")\n",
    "# AP['CGPA']=AP.CGPA**(1/1.2)\n",
    "# AP.skew()\n",
    "# Reciprocal transformation didn't affect the skewness "
   ]
  },
  {
   "cell_type": "code",
   "execution_count": 24,
   "id": "d55cdf8a",
   "metadata": {},
   "outputs": [
    {
     "name": "stdout",
     "output_type": "stream",
     "text": [
      "Performing box-cox transformation.\n"
     ]
    },
    {
     "name": "stderr",
     "output_type": "stream",
     "text": [
      "/tmp/ipykernel_8315/3049371444.py:4: FutureWarning: Dropping of nuisance columns in DataFrame reductions (with 'numeric_only=None') is deprecated; in a future version this will raise TypeError.  Select only valid columns before calling the reduction.\n",
      "  AP.skew()\n"
     ]
    },
    {
     "data": {
      "text/plain": [
       "Unnamed: 0    0.000000\n",
       "Roll No.      0.000000\n",
       "CGPA         -0.220231\n",
       "dtype: float64"
      ]
     },
     "execution_count": 24,
     "metadata": {},
     "output_type": "execute_result"
    }
   ],
   "source": [
    "from scipy import stats\n",
    "print(\"Performing box-cox transformation.\")\n",
    "AP['CGPA'],parameters=stats.boxcox(AP['CGPA'])\n",
    "AP.skew()\n",
    "#Box-Cox Transformation tranformed the data into normal form"
   ]
  },
  {
   "cell_type": "code",
   "execution_count": 26,
   "id": "c60f5370",
   "metadata": {},
   "outputs": [
    {
     "name": "stderr",
     "output_type": "stream",
     "text": [
      "/usr/local/lib/python3.8/site-packages/seaborn/distributions.py:2619: FutureWarning: `distplot` is a deprecated function and will be removed in a future version. Please adapt your code to use either `displot` (a figure-level function with similar flexibility) or `histplot` (an axes-level function for histograms).\n",
      "  warnings.warn(msg, FutureWarning)\n"
     ]
    },
    {
     "data": {
      "image/png": "[encoded data removed]",
      "text/plain": [
       "<Figure size 864x432 with 1 Axes>"
      ]
     },
     "metadata": {
      "needs_background": "light"
     },
     "output_type": "display_data"
    }
   ],
   "source": [
    "plt.figure(figsize=(12,6))\n",
    "sns.distplot(AP[\"CGPA\"])\n",
    "plt.show()"
   ]
  },
  {
   "cell_type": "code",
   "execution_count": 27,
   "id": "423540e3",
   "metadata": {},
   "outputs": [
    {
     "data": {
      "text/html": [
       "<div>\n",
       "<style scoped>\n",
       "    .dataframe tbody tr th:only-of-type {\n",
       "        vertical-align: middle;\n",
       "    }\n",
       "\n",
       "    .dataframe tbody tr th {\n",
       "        vertical-align: top;\n",
       "    }\n",
       "\n",
       "    .dataframe thead th {\n",
       "        text-align: right;\n",
       "    }\n",
       "</style>\n",
       "<table border=\"1\" class=\"dataframe\">\n",
       "  <thead>\n",
       "    <tr style=\"text-align: right;\">\n",
       "      <th></th>\n",
       "      <th>Unnamed: 0</th>\n",
       "      <th>Roll No.</th>\n",
       "      <th>Name</th>\n",
       "      <th>CGPA</th>\n",
       "      <th>Grade</th>\n",
       "    </tr>\n",
       "  </thead>\n",
       "  <tbody>\n",
       "    <tr>\n",
       "      <th>0</th>\n",
       "      <td>0</td>\n",
       "      <td>31411</td>\n",
       "      <td>Swayam</td>\n",
       "      <td>964.990309</td>\n",
       "      <td>A</td>\n",
       "    </tr>\n",
       "    <tr>\n",
       "      <th>1</th>\n",
       "      <td>1</td>\n",
       "      <td>31412</td>\n",
       "      <td>Chinmay</td>\n",
       "      <td>676.263426</td>\n",
       "      <td>B</td>\n",
       "    </tr>\n",
       "    <tr>\n",
       "      <th>2</th>\n",
       "      <td>2</td>\n",
       "      <td>31413</td>\n",
       "      <td>Vinayaki</td>\n",
       "      <td>1001.780727</td>\n",
       "      <td>A</td>\n",
       "    </tr>\n",
       "    <tr>\n",
       "      <th>3</th>\n",
       "      <td>3</td>\n",
       "      <td>31414</td>\n",
       "      <td>Yash</td>\n",
       "      <td>455.730830</td>\n",
       "      <td>C</td>\n",
       "    </tr>\n",
       "    <tr>\n",
       "      <th>5</th>\n",
       "      <td>5</td>\n",
       "      <td>31416</td>\n",
       "      <td>Aditya</td>\n",
       "      <td>734.131748</td>\n",
       "      <td>B</td>\n",
       "    </tr>\n",
       "    <tr>\n",
       "      <th>6</th>\n",
       "      <td>6</td>\n",
       "      <td>31417</td>\n",
       "      <td>Abheejit</td>\n",
       "      <td>455.730830</td>\n",
       "      <td>C</td>\n",
       "    </tr>\n",
       "    <tr>\n",
       "      <th>7</th>\n",
       "      <td>7</td>\n",
       "      <td>31418</td>\n",
       "      <td>Dikshant</td>\n",
       "      <td>262.877835</td>\n",
       "      <td>D</td>\n",
       "    </tr>\n",
       "    <tr>\n",
       "      <th>8</th>\n",
       "      <td>8</td>\n",
       "      <td>31419</td>\n",
       "      <td>Rohit</td>\n",
       "      <td>795.489993</td>\n",
       "      <td>A</td>\n",
       "    </tr>\n",
       "  </tbody>\n",
       "</table>\n",
       "</div>"
      ],
      "text/plain": [
       "   Unnamed: 0  Roll No.      Name         CGPA Grade\n",
       "0           0     31411    Swayam   964.990309     A\n",
       "1           1     31412   Chinmay   676.263426     B\n",
       "2           2     31413  Vinayaki  1001.780727     A\n",
       "3           3     31414      Yash   455.730830     C\n",
       "5           5     31416    Aditya   734.131748     B\n",
       "6           6     31417  Abheejit   455.730830     C\n",
       "7           7     31418  Dikshant   262.877835     D\n",
       "8           8     31419     Rohit   795.489993     A"
      ]
     },
     "execution_count": 27,
     "metadata": {},
     "output_type": "execute_result"
    }
   ],
   "source": [
    "AP\n"
   ]
  }
 ],
 "metadata": {
  "kernelspec": {
   "display_name": "Python 3 (ipykernel)",
   "language": "python",
   "name": "python3"
  },
  "language_info": {
   "codemirror_mode": {
    "name": "ipython",
    "version": 3
   },
   "file_extension": ".py",
   "mimetype": "text/x-python",
   "name": "python",
   "nbconvert_exporter": "python",
   "pygments_lexer": "ipython3",
   "version": "3.8.10"
  }
 },
 "nbformat": 4,
 "nbformat_minor": 5
}
