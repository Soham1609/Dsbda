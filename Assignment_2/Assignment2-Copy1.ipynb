{
 "cells": [
  {
   "cell_type": "code",
   "execution_count": 1,
   "id": "f7d6a2cc",
   "metadata": {},
   "outputs": [],
   "source": [
    "import pandas as pd\n",
    "import numpy as np\n",
    "from matplotlib import pyplot as plt\n",
    "import seaborn as sns"
   ]
  },
  {
   "cell_type": "code",
   "execution_count": 2,
   "id": "f4c29225",
   "metadata": {},
   "outputs": [
    {
     "name": "stdout",
     "output_type": "stream",
     "text": [
      "   Roll No.      Name  CGPA Grade\n",
      "0     31411    Swayam   9.6     A\n",
      "1     31412   Chinmay   8.7     B\n",
      "2     31413  Vinayaki   9.7     A\n",
      "3     31414      Yash   7.8     C\n",
      "4     31415     Rutik   0.0      \n",
      "5     31416    Aditya   8.9     B\n",
      "6     31417  Abheejit   7.8     C\n",
      "7     31418  Dikshant   6.7     D\n",
      "8     31419     Rohit   9.1     A\n",
      "9     31420      Ajit   0.0      \n"
     ]
    }
   ],
   "source": [
    "#Creation of Data frame\n",
    "RN=[31411,31412,31413,31414,31415,31416,31417,31418,31419,31420]\n",
    "Name=[\"Swayam\",\"Chinmay\",\"Vinayaki\",\"Yash\",\"Rutik\",\"Aditya\",\"Abheejit\",\"Dikshant\",\"Rohit\",\"Ajit\"]\n",
    "CGPA=[9.6,8.7,9.7,7.8,0,8.9,7.8,6.7,9.1,0]\n",
    "GRADE=[\"A\",\"B\",\"A\",\"C\",\"\",\"B\",\"C\",\"D\",\"A\",\"\"]\n",
    "dict={'Roll No.':RN,'Name':Name,'CGPA':CGPA,'Grade':GRADE}\n",
    "df = pd.DataFrame(dict)\n",
    "print(df)"
   ]
  },
  {
   "cell_type": "code",
   "execution_count": 3,
   "id": "ffb4e58a",
   "metadata": {},
   "outputs": [],
   "source": [
    "#Conversion of data frame into csv file\n",
    "df.to_csv('Academic_Performance.csv')"
   ]
  },
  {
   "cell_type": "code",
   "execution_count": 4,
   "id": "f7993c1f",
   "metadata": {},
   "outputs": [
    {
     "name": "stdout",
     "output_type": "stream",
     "text": [
      "   Unnamed: 0  Roll No.      Name  CGPA Grade\n",
      "0           0     31411    Swayam   9.6     A\n",
      "1           1     31412   Chinmay   8.7     B\n",
      "2           2     31413  Vinayaki   9.7     A\n",
      "3           3     31414      Yash   7.8     C\n",
      "4           4     31415     Rutik   0.0   NaN\n",
      "5           5     31416    Aditya   8.9     B\n",
      "6           6     31417  Abheejit   7.8     C\n",
      "7           7     31418  Dikshant   6.7     D\n",
      "8           8     31419     Rohit   9.1     A\n",
      "9           9     31420      Ajit   0.0   NaN\n"
     ]
    }
   ],
   "source": [
    "AP=pd.read_csv('Academic_Performance.csv')\n",
    "print(AP)"
   ]
  },
  {
   "cell_type": "code",
   "execution_count": 5,
   "id": "8d0bdf8d",
   "metadata": {},
   "outputs": [
    {
     "data": {
      "text/html": [
       "<div>\n",
       "<style scoped>\n",
       "    .dataframe tbody tr th:only-of-type {\n",
       "        vertical-align: middle;\n",
       "    }\n",
       "\n",
       "    .dataframe tbody tr th {\n",
       "        vertical-align: top;\n",
       "    }\n",
       "\n",
       "    .dataframe thead th {\n",
       "        text-align: right;\n",
       "    }\n",
       "</style>\n",
       "<table border=\"1\" class=\"dataframe\">\n",
       "  <thead>\n",
       "    <tr style=\"text-align: right;\">\n",
       "      <th></th>\n",
       "      <th>Unnamed: 0</th>\n",
       "      <th>Roll No.</th>\n",
       "      <th>Name</th>\n",
       "      <th>CGPA</th>\n",
       "      <th>Grade</th>\n",
       "    </tr>\n",
       "  </thead>\n",
       "  <tbody>\n",
       "    <tr>\n",
       "      <th>0</th>\n",
       "      <td>False</td>\n",
       "      <td>False</td>\n",
       "      <td>False</td>\n",
       "      <td>False</td>\n",
       "      <td>False</td>\n",
       "    </tr>\n",
       "    <tr>\n",
       "      <th>1</th>\n",
       "      <td>False</td>\n",
       "      <td>False</td>\n",
       "      <td>False</td>\n",
       "      <td>False</td>\n",
       "      <td>False</td>\n",
       "    </tr>\n",
       "    <tr>\n",
       "      <th>2</th>\n",
       "      <td>False</td>\n",
       "      <td>False</td>\n",
       "      <td>False</td>\n",
       "      <td>False</td>\n",
       "      <td>False</td>\n",
       "    </tr>\n",
       "    <tr>\n",
       "      <th>3</th>\n",
       "      <td>False</td>\n",
       "      <td>False</td>\n",
       "      <td>False</td>\n",
       "      <td>False</td>\n",
       "      <td>False</td>\n",
       "    </tr>\n",
       "    <tr>\n",
       "      <th>4</th>\n",
       "      <td>False</td>\n",
       "      <td>False</td>\n",
       "      <td>False</td>\n",
       "      <td>False</td>\n",
       "      <td>True</td>\n",
       "    </tr>\n",
       "    <tr>\n",
       "      <th>5</th>\n",
       "      <td>False</td>\n",
       "      <td>False</td>\n",
       "      <td>False</td>\n",
       "      <td>False</td>\n",
       "      <td>False</td>\n",
       "    </tr>\n",
       "    <tr>\n",
       "      <th>6</th>\n",
       "      <td>False</td>\n",
       "      <td>False</td>\n",
       "      <td>False</td>\n",
       "      <td>False</td>\n",
       "      <td>False</td>\n",
       "    </tr>\n",
       "    <tr>\n",
       "      <th>7</th>\n",
       "      <td>False</td>\n",
       "      <td>False</td>\n",
       "      <td>False</td>\n",
       "      <td>False</td>\n",
       "      <td>False</td>\n",
       "    </tr>\n",
       "    <tr>\n",
       "      <th>8</th>\n",
       "      <td>False</td>\n",
       "      <td>False</td>\n",
       "      <td>False</td>\n",
       "      <td>False</td>\n",
       "      <td>False</td>\n",
       "    </tr>\n",
       "    <tr>\n",
       "      <th>9</th>\n",
       "      <td>False</td>\n",
       "      <td>False</td>\n",
       "      <td>False</td>\n",
       "      <td>False</td>\n",
       "      <td>True</td>\n",
       "    </tr>\n",
       "  </tbody>\n",
       "</table>\n",
       "</div>"
      ],
      "text/plain": [
       "   Unnamed: 0  Roll No.   Name   CGPA  Grade\n",
       "0       False     False  False  False  False\n",
       "1       False     False  False  False  False\n",
       "2       False     False  False  False  False\n",
       "3       False     False  False  False  False\n",
       "4       False     False  False  False   True\n",
       "5       False     False  False  False  False\n",
       "6       False     False  False  False  False\n",
       "7       False     False  False  False  False\n",
       "8       False     False  False  False  False\n",
       "9       False     False  False  False   True"
      ]
     },
     "execution_count": 5,
     "metadata": {},
     "output_type": "execute_result"
    }
   ],
   "source": [
    "#Checking for null values ---- String null values enter \"\", numeric null values enter np.nan\n",
    "AP.isnull()"
   ]
  },
  {
   "cell_type": "code",
   "execution_count": 6,
   "id": "21df2120",
   "metadata": {},
   "outputs": [
    {
     "data": {
      "text/html": [
       "<div>\n",
       "<style scoped>\n",
       "    .dataframe tbody tr th:only-of-type {\n",
       "        vertical-align: middle;\n",
       "    }\n",
       "\n",
       "    .dataframe tbody tr th {\n",
       "        vertical-align: top;\n",
       "    }\n",
       "\n",
       "    .dataframe thead th {\n",
       "        text-align: right;\n",
       "    }\n",
       "</style>\n",
       "<table border=\"1\" class=\"dataframe\">\n",
       "  <thead>\n",
       "    <tr style=\"text-align: right;\">\n",
       "      <th></th>\n",
       "      <th>Unnamed: 0</th>\n",
       "      <th>Roll No.</th>\n",
       "      <th>Name</th>\n",
       "      <th>CGPA</th>\n",
       "      <th>Grade</th>\n",
       "    </tr>\n",
       "  </thead>\n",
       "  <tbody>\n",
       "    <tr>\n",
       "      <th>0</th>\n",
       "      <td>0</td>\n",
       "      <td>31411</td>\n",
       "      <td>Swayam</td>\n",
       "      <td>9.6</td>\n",
       "      <td>A</td>\n",
       "    </tr>\n",
       "    <tr>\n",
       "      <th>1</th>\n",
       "      <td>1</td>\n",
       "      <td>31412</td>\n",
       "      <td>Chinmay</td>\n",
       "      <td>8.7</td>\n",
       "      <td>B</td>\n",
       "    </tr>\n",
       "    <tr>\n",
       "      <th>2</th>\n",
       "      <td>2</td>\n",
       "      <td>31413</td>\n",
       "      <td>Vinayaki</td>\n",
       "      <td>9.7</td>\n",
       "      <td>A</td>\n",
       "    </tr>\n",
       "    <tr>\n",
       "      <th>3</th>\n",
       "      <td>3</td>\n",
       "      <td>31414</td>\n",
       "      <td>Yash</td>\n",
       "      <td>7.8</td>\n",
       "      <td>C</td>\n",
       "    </tr>\n",
       "    <tr>\n",
       "      <th>4</th>\n",
       "      <td>4</td>\n",
       "      <td>31415</td>\n",
       "      <td>Rutik</td>\n",
       "      <td>0.0</td>\n",
       "      <td>F</td>\n",
       "    </tr>\n",
       "    <tr>\n",
       "      <th>5</th>\n",
       "      <td>5</td>\n",
       "      <td>31416</td>\n",
       "      <td>Aditya</td>\n",
       "      <td>8.9</td>\n",
       "      <td>B</td>\n",
       "    </tr>\n",
       "    <tr>\n",
       "      <th>6</th>\n",
       "      <td>6</td>\n",
       "      <td>31417</td>\n",
       "      <td>Abheejit</td>\n",
       "      <td>7.8</td>\n",
       "      <td>C</td>\n",
       "    </tr>\n",
       "    <tr>\n",
       "      <th>7</th>\n",
       "      <td>7</td>\n",
       "      <td>31418</td>\n",
       "      <td>Dikshant</td>\n",
       "      <td>6.7</td>\n",
       "      <td>D</td>\n",
       "    </tr>\n",
       "    <tr>\n",
       "      <th>8</th>\n",
       "      <td>8</td>\n",
       "      <td>31419</td>\n",
       "      <td>Rohit</td>\n",
       "      <td>9.1</td>\n",
       "      <td>A</td>\n",
       "    </tr>\n",
       "    <tr>\n",
       "      <th>9</th>\n",
       "      <td>9</td>\n",
       "      <td>31420</td>\n",
       "      <td>Ajit</td>\n",
       "      <td>0.0</td>\n",
       "      <td>F</td>\n",
       "    </tr>\n",
       "  </tbody>\n",
       "</table>\n",
       "</div>"
      ],
      "text/plain": [
       "   Unnamed: 0  Roll No.      Name  CGPA Grade\n",
       "0           0     31411    Swayam   9.6     A\n",
       "1           1     31412   Chinmay   8.7     B\n",
       "2           2     31413  Vinayaki   9.7     A\n",
       "3           3     31414      Yash   7.8     C\n",
       "4           4     31415     Rutik   0.0     F\n",
       "5           5     31416    Aditya   8.9     B\n",
       "6           6     31417  Abheejit   7.8     C\n",
       "7           7     31418  Dikshant   6.7     D\n",
       "8           8     31419     Rohit   9.1     A\n",
       "9           9     31420      Ajit   0.0     F"
      ]
     },
     "execution_count": 6,
     "metadata": {},
     "output_type": "execute_result"
    }
   ],
   "source": [
    "#replacing null values in Grade column with F\n",
    "AP[\"Grade\"].fillna(\"F\",inplace=True)  \n",
    "AP"
   ]
  },
  {
   "cell_type": "code",
   "execution_count": 7,
   "id": "93f49ebc",
   "metadata": {},
   "outputs": [
    {
     "data": {
      "text/plain": [
       "[<matplotlib.lines.Line2D at 0x7f1c54bafe80>]"
      ]
     },
     "execution_count": 7,
     "metadata": {},
     "output_type": "execute_result"
    },
    {
     "data": {
      "image/png": "[encoded data removed]",
      "text/plain": [
       "<Figure size 432x288 with 1 Axes>"
      ]
     },
     "metadata": {
      "needs_background": "light"
     },
     "output_type": "display_data"
    }
   ],
   "source": [
    "plt.plot(AP[\"Roll No.\"]4,AP[\"CGPA\"])"
   ]
  },
  {
   "cell_type": "code",
   "execution_count": 8,
   "id": "3e6f5531",
   "metadata": {},
   "outputs": [
    {
     "name": "stderr",
     "output_type": "stream",
     "text": [
      "/usr/local/lib/python3.8/site-packages/seaborn/_decorators.py:36: FutureWarning: Pass the following variable as a keyword arg: x. From version 0.12, the only valid positional argument will be `data`, and passing other arguments without an explicit keyword will result in an error or misinterpretation.\n",
      "  warnings.warn(\n"
     ]
    },
    {
     "data": {
      "text/plain": [
       "<AxesSubplot:xlabel='CGPA'>"
      ]
     },
     "execution_count": 8,
     "metadata": {},
     "output_type": "execute_result"
    },
    {
     "data": {
      "image/png": "[encoded data removed]",
      "text/plain": [
       "<Figure size 432x288 with 1 Axes>"
      ]
     },
     "metadata": {
      "needs_background": "light"
     },
     "output_type": "display_data"
    }
   ],
   "source": [
    "sns.boxplot(df[\"CGPA\"])"
   ]
  },
  {
   "cell_type": "code",
   "execution_count": 9,
   "id": "51514e89",
   "metadata": {},
   "outputs": [
    {
     "name": "stdout",
     "output_type": "stream",
     "text": [
      "(array([4, 9]),)\n"
     ]
    }
   ],
   "source": [
    "print(np.where(df[\"CGPA\"]<6))"
   ]
  },
  {
   "cell_type": "code",
   "execution_count": 10,
   "id": "f241c3bf",
   "metadata": {},
   "outputs": [],
   "source": [
    "AP=AP.drop(\n",
    "labels=[4,9],\n",
    "axis=0,\n",
    ")"
   ]
  },
  {
   "cell_type": "code",
   "execution_count": 11,
   "id": "77313eeb",
   "metadata": {},
   "outputs": [],
   "source": [
    "# print(np.where(AP[\"CGPA\"]<6))"
   ]
  },
  {
   "cell_type": "code",
   "execution_count": 12,
   "id": "335928c0",
   "metadata": {},
   "outputs": [
    {
     "data": {
      "text/plain": [
       "[<matplotlib.lines.Line2D at 0x7f1c54a9d610>]"
      ]
     },
     "execution_count": 12,
     "metadata": {},
     "output_type": "execute_result"
    },
    {
     "data": {
      "image/png": "[encoded data removed]",
      "text/plain": [
       "<Figure size 432x288 with 1 Axes>"
      ]
     },
     "metadata": {
      "needs_background": "light"
     },
     "output_type": "display_data"
    }
   ],
   "source": [
    "plt.plot(AP[\"Roll No.\"],AP[\"CGPA\"])"
   ]
  },
  {
   "cell_type": "code",
   "execution_count": 13,
   "id": "a3f0b389",
   "metadata": {},
   "outputs": [
    {
     "data": {
      "text/html": [
       "<div>\n",
       "<style scoped>\n",
       "    .dataframe tbody tr th:only-of-type {\n",
       "        vertical-align: middle;\n",
       "    }\n",
       "\n",
       "    .dataframe tbody tr th {\n",
       "        vertical-align: top;\n",
       "    }\n",
       "\n",
       "    .dataframe thead th {\n",
       "        text-align: right;\n",
       "    }\n",
       "</style>\n",
       "<table border=\"1\" class=\"dataframe\">\n",
       "  <thead>\n",
       "    <tr style=\"text-align: right;\">\n",
       "      <th></th>\n",
       "      <th>Unnamed: 0</th>\n",
       "      <th>Roll No.</th>\n",
       "      <th>Name</th>\n",
       "      <th>CGPA</th>\n",
       "      <th>Grade</th>\n",
       "    </tr>\n",
       "  </thead>\n",
       "  <tbody>\n",
       "    <tr>\n",
       "      <th>0</th>\n",
       "      <td>0</td>\n",
       "      <td>31411</td>\n",
       "      <td>Swayam</td>\n",
       "      <td>9.6</td>\n",
       "      <td>A</td>\n",
       "    </tr>\n",
       "    <tr>\n",
       "      <th>1</th>\n",
       "      <td>1</td>\n",
       "      <td>31412</td>\n",
       "      <td>Chinmay</td>\n",
       "      <td>8.7</td>\n",
       "      <td>B</td>\n",
       "    </tr>\n",
       "    <tr>\n",
       "      <th>2</th>\n",
       "      <td>2</td>\n",
       "      <td>31413</td>\n",
       "      <td>Vinayaki</td>\n",
       "      <td>9.7</td>\n",
       "      <td>A</td>\n",
       "    </tr>\n",
       "    <tr>\n",
       "      <th>3</th>\n",
       "      <td>3</td>\n",
       "      <td>31414</td>\n",
       "      <td>Yash</td>\n",
       "      <td>7.8</td>\n",
       "      <td>C</td>\n",
       "    </tr>\n",
       "    <tr>\n",
       "      <th>5</th>\n",
       "      <td>5</td>\n",
       "      <td>31416</td>\n",
       "      <td>Aditya</td>\n",
       "      <td>8.9</td>\n",
       "      <td>B</td>\n",
       "    </tr>\n",
       "    <tr>\n",
       "      <th>6</th>\n",
       "      <td>6</td>\n",
       "      <td>31417</td>\n",
       "      <td>Abheejit</td>\n",
       "      <td>7.8</td>\n",
       "      <td>C</td>\n",
       "    </tr>\n",
       "    <tr>\n",
       "      <th>7</th>\n",
       "      <td>7</td>\n",
       "      <td>31418</td>\n",
       "      <td>Dikshant</td>\n",
       "      <td>6.7</td>\n",
       "      <td>D</td>\n",
       "    </tr>\n",
       "    <tr>\n",
       "      <th>8</th>\n",
       "      <td>8</td>\n",
       "      <td>31419</td>\n",
       "      <td>Rohit</td>\n",
       "      <td>9.1</td>\n",
       "      <td>A</td>\n",
       "    </tr>\n",
       "  </tbody>\n",
       "</table>\n",
       "</div>"
      ],
      "text/plain": [
       "   Unnamed: 0  Roll No.      Name  CGPA Grade\n",
       "0           0     31411    Swayam   9.6     A\n",
       "1           1     31412   Chinmay   8.7     B\n",
       "2           2     31413  Vinayaki   9.7     A\n",
       "3           3     31414      Yash   7.8     C\n",
       "5           5     31416    Aditya   8.9     B\n",
       "6           6     31417  Abheejit   7.8     C\n",
       "7           7     31418  Dikshant   6.7     D\n",
       "8           8     31419     Rohit   9.1     A"
      ]
     },
     "execution_count": 13,
     "metadata": {},
     "output_type": "execute_result"
    }
   ],
   "source": [
    "AP.to_csv('Academic_Performance_changed.csv')\n",
    "AP"
   ]
  }
 ],
 "metadata": {
  "kernelspec": {
   "display_name": "Python 3 (ipykernel)",
   "language": "python",
   "name": "python3"
  },
  "language_info": {
   "codemirror_mode": {
    "name": "ipython",
    "version": 3
   },
   "file_extension": ".py",
   "mimetype": "text/x-python",
   "name": "python",
   "nbconvert_exporter": "python",
   "pygments_lexer": "ipython3",
   "version": "3.8.10"
  }
 },
 "nbformat": 4,
 "nbformat_minor": 5
}
